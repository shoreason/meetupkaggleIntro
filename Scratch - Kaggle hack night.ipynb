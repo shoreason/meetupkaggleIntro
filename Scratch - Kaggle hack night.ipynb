{
 "cells": [
  {
   "cell_type": "markdown",
   "metadata": {},
   "source": [
    "# Brief notes to talk over\n",
    "\n",
    "- This is the first hack night that we've done, so I'm only going to talk for a minute or two...\n",
    "- The point: to get all of you coding, practicing, learning, helping each other out.\n",
    "- What is Kaggle?\n",
    "  - Show page, give some examples\n",
    "  - See Meetup page for the link.\n",
    "  - Sign up at Kaggle if you haven't yet\n",
    "  - What is our dataset? What should be predicted?\n",
    "  - Show Overview and other tabs\n",
    "  - Public / Private Leaderboard and other information\n",
    "- May put up examples on the projector if many people are stuck at around the same point\n",
    "- Perhaps stop with 15 minutes to go (how long do we have room?), look at private leaderboard, see who is near the top and if they'd like to explain their methodology"
   ]
  },
  {
   "cell_type": "markdown",
   "metadata": {},
   "source": [
    "# Private\n",
    "\n",
    "- Kaggle competition link is: https://www.kaggle.com/t/b4c66c1c24cc4a7983156152a7e0f84f\n",
    "- Dataset is https://archive.ics.uci.edu/ml/datasets/Adult\n",
    "- Kaggle training data & labels is just `adult.data` from there.\n",
    "- To generate test data, labels, and a sample submission, use this shell kludge:\n",
    "\n",
    "```\n",
    "TMPFILE=\"adult.test.tmp\"\n",
    "DATA=\"adult.test.X\"\n",
    "TARGETS=\"adult.test.y\"\n",
    "SAMPLE=\"submission_sample.csv\"\n",
    "\n",
    "tail -n +2 < adult.test | cut -d , -f 15 | sed \"s/ <=50K./0/g\" | sed \"s/ >50K./1/g\" | sed '/^\\s*$/d' > ${TMPFILE}\n",
    "\n",
    "echo \"id,label\" > ${TARGETS}\n",
    "cat ${TMPFILE} | awk '{printf \"%d,%s\\n\", NR-1, $0}' >> ${TARGETS}\n",
    "echo \"id,label\" > ${SAMPLE}\n",
    "shuf < ${TMPFILE} | awk '{printf \"%d,%s\\n\", NR-1, $0}' >> ${SAMPLE}\n",
    "\n",
    "tail -n +2 < adult.test | cut -d , -f 15 --complement > ${DATA}\n",
    "\n",
    "rm ${TMPFILE}\n",
    "```"
   ]
  },
  {
   "cell_type": "markdown",
   "metadata": {},
   "source": [
    "## Reading data"
   ]
  },
  {
   "cell_type": "code",
   "execution_count": 1,
   "metadata": {},
   "outputs": [
    {
     "name": "stderr",
     "output_type": "stream",
     "text": [
      "/nix/store/k45rhqv2npx66bj1mbcimd4jnwmfgfib-python3-3.6.3-env/lib/python3.6/site-packages/sklearn/cross_validation.py:41: DeprecationWarning: This module was deprecated in version 0.18 in favor of the model_selection module into which all the refactored classes and functions are moved. Also note that the interface of the new CV iterators are different from that of this module. This module will be removed in 0.20.\n",
      "  \"This module will be removed in 0.20.\", DeprecationWarning)\n"
     ]
    }
   ],
   "source": [
    "import pandas as pd\n",
    "import xgboost"
   ]
  },
  {
   "cell_type": "code",
   "execution_count": 2,
   "metadata": {
    "collapsed": true
   },
   "outputs": [],
   "source": [
    "columns = (\"age\", \"workclass\", \"fnlwgt\", \"education\",\n",
    "           \"education_num\", \"marital_status\", \"occupation\",\n",
    "           \"relationship\", \"race\", \"sex\", \"capital_gain\",\n",
    "           \"capital_loss\", \"hours_per_week\", \"native_country\",\n",
    "           \"income\")\n",
    "# Data is CSV with no header; question mark indicates NA\n",
    "data = pd.read_csv(\"adult.data\", names=columns, skipinitialspace=True,\n",
    "                   na_values=\"?\", index_col=False)"
   ]
  },
  {
   "cell_type": "code",
   "execution_count": 3,
   "metadata": {
    "collapsed": true
   },
   "outputs": [],
   "source": [
    "test_data = pd.read_csv(\"adult.test.X\", names=columns[:-1], skipinitialspace=True,\n",
    "    na_values=\"?\", index_col=False)"
   ]
  },
  {
   "cell_type": "markdown",
   "metadata": {},
   "source": [
    "## Plots"
   ]
  },
  {
   "cell_type": "code",
   "execution_count": null,
   "metadata": {
    "collapsed": true
   },
   "outputs": [],
   "source": [
    "plots = data.hist()\n",
    "for row in plots:\n",
    "    for subplot in row:\n",
    "        subplot.axis('off')\n",
    "plt.show()"
   ]
  },
  {
   "cell_type": "markdown",
   "metadata": {},
   "source": [
    "## Preprocessing"
   ]
  },
  {
   "cell_type": "code",
   "execution_count": 4,
   "metadata": {
    "collapsed": true
   },
   "outputs": [],
   "source": [
    "def fill_missing(df):\n",
    "    \"\"\"Modifies the input dataframe to fill missing data in the columns\n",
    "    workclass, occupation, and native_country.\"\"\"\n",
    "    # Fill the NAs in workclass with the mode ('Private' outnumbers\n",
    "    # all other categories combined):\n",
    "    df.workclass.fillna(\"Private\", inplace=True)\n",
    "    # Do likewise for native_country (vast majority are from US):\n",
    "    df.native_country.fillna(\"United-States\", inplace=True)\n",
    "    # NAs in occupation occur primarily where workclass is also NA,\n",
    "    # but no particular value dominates all the others.  This is still\n",
    "    # ~6% of our data - so for now, fill it with a new value and treat\n",
    "    # it perhaps like it has information.\n",
    "    df.occupation.fillna(\"Other\", inplace=True)"
   ]
  },
  {
   "cell_type": "code",
   "execution_count": 5,
   "metadata": {
    "collapsed": true
   },
   "outputs": [],
   "source": [
    "fill_missing(data)\n",
    "fill_missing(test_data)"
   ]
  },
  {
   "cell_type": "code",
   "execution_count": 6,
   "metadata": {
    "collapsed": true
   },
   "outputs": [],
   "source": [
    "def feature_xform(df):\n",
    "    \"\"\"Given raw data (as from 'read_data'), selects and transforms\n",
    "    features, including turning categorical columns into numerical\n",
    "    form.\n",
    "\n",
    "    Returns (X, y) where 'X' is a DataFrame for features and 'y' is a\n",
    "    Series for the corresponding labels (where 0 is <= 50K, and 1 is >\n",
    "    50K).\n",
    "    \"\"\"\n",
    "    # Extract just the features (everything but 'income'):\n",
    "    cols = [c for c in df.columns if c != 'income']\n",
    "    X = df[cols]\n",
    "    # One-hot encode everything in this tuple, join it to X, and\n",
    "    # drop the original column:\n",
    "    onehot_cols = (\"workclass\", \"education\", \"marital_status\", \"occupation\",\n",
    "                   \"relationship\", \"race\", \"native_country\")\n",
    "    for col in onehot_cols:\n",
    "        feature = X[col]\n",
    "        feature_onehot = pd.get_dummies(feature, col)\n",
    "        X = X.join(feature_onehot).drop(col, axis=1)\n",
    "    # Gender is binary (here at least):\n",
    "    X = X.assign(male = (X.sex == \"Male\")*1).drop(\"sex\", axis=1)\n",
    "    # 'fnlwgt' appears to be meaningless here as it's relative to the\n",
    "    # state, which isn't given:\n",
    "    X = X.drop(\"fnlwgt\", axis=1)\n",
    "    # 'capital_gain' and 'capital_loss' never appear together and can\n",
    "    # probably be turned to one feature:\n",
    "    X = X.assign(net_capital = X.capital_gain - X.capital_loss).\\\n",
    "          drop([\"capital_gain\", \"capital_loss\"], axis=1)\n",
    "    return X"
   ]
  },
  {
   "cell_type": "code",
   "execution_count": 7,
   "metadata": {
    "collapsed": true
   },
   "outputs": [],
   "source": [
    "X_train = feature_xform(data)\n",
    "X_test = feature_xform(test_data)"
   ]
  },
  {
   "cell_type": "code",
   "execution_count": 8,
   "metadata": {
    "collapsed": true
   },
   "outputs": [],
   "source": [
    "y_train = (data.income == \">50K\") * 1"
   ]
  },
  {
   "cell_type": "code",
   "execution_count": 9,
   "metadata": {
    "collapsed": true
   },
   "outputs": [],
   "source": [
    "X_train = X_train.drop(\"native_country_Holand-Netherlands\", axis=1)"
   ]
  },
  {
   "cell_type": "markdown",
   "metadata": {},
   "source": [
    "# xgboost training, prediction & submission"
   ]
  },
  {
   "cell_type": "code",
   "execution_count": 10,
   "metadata": {},
   "outputs": [
    {
     "data": {
      "text/plain": [
       "XGBClassifier(base_score=0.5, colsample_bylevel=1, colsample_bytree=1,\n",
       "       gamma=0, learning_rate=0.1, max_delta_step=0, max_depth=3,\n",
       "       min_child_weight=1, missing=None, n_estimators=150, nthread=-1,\n",
       "       objective='binary:logistic', reg_alpha=0, reg_lambda=1,\n",
       "       scale_pos_weight=1, seed=12345, silent=True, subsample=1)"
      ]
     },
     "execution_count": 10,
     "metadata": {},
     "output_type": "execute_result"
    }
   ],
   "source": [
    "xgb = xgboost.XGBClassifier(nthread=-1, seed=12345, n_estimators=150)\n",
    "xgb.fit(X_train, y_train)"
   ]
  },
  {
   "cell_type": "code",
   "execution_count": 39,
   "metadata": {},
   "outputs": [
    {
     "data": {
      "text/html": [
       "<div>\n",
       "<style>\n",
       "    .dataframe thead tr:only-child th {\n",
       "        text-align: right;\n",
       "    }\n",
       "\n",
       "    .dataframe thead th {\n",
       "        text-align: left;\n",
       "    }\n",
       "\n",
       "    .dataframe tbody tr th {\n",
       "        vertical-align: top;\n",
       "    }\n",
       "</style>\n",
       "<table border=\"1\" class=\"dataframe\">\n",
       "  <thead>\n",
       "    <tr style=\"text-align: right;\">\n",
       "      <th></th>\n",
       "      <th>Feature</th>\n",
       "      <th>Importance</th>\n",
       "    </tr>\n",
       "  </thead>\n",
       "  <tbody>\n",
       "    <tr>\n",
       "      <th>0</th>\n",
       "      <td>net_capital</td>\n",
       "      <td>0.287968</td>\n",
       "    </tr>\n",
       "    <tr>\n",
       "      <th>1</th>\n",
       "      <td>age</td>\n",
       "      <td>0.165680</td>\n",
       "    </tr>\n",
       "    <tr>\n",
       "      <th>2</th>\n",
       "      <td>hours_per_week</td>\n",
       "      <td>0.088757</td>\n",
       "    </tr>\n",
       "    <tr>\n",
       "      <th>3</th>\n",
       "      <td>education_num</td>\n",
       "      <td>0.084813</td>\n",
       "    </tr>\n",
       "    <tr>\n",
       "      <th>4</th>\n",
       "      <td>marital_status_Married-civ-spouse</td>\n",
       "      <td>0.043393</td>\n",
       "    </tr>\n",
       "    <tr>\n",
       "      <th>5</th>\n",
       "      <td>relationship_Wife</td>\n",
       "      <td>0.029586</td>\n",
       "    </tr>\n",
       "    <tr>\n",
       "      <th>6</th>\n",
       "      <td>male</td>\n",
       "      <td>0.018738</td>\n",
       "    </tr>\n",
       "    <tr>\n",
       "      <th>7</th>\n",
       "      <td>workclass_Self-emp-not-inc</td>\n",
       "      <td>0.018738</td>\n",
       "    </tr>\n",
       "    <tr>\n",
       "      <th>8</th>\n",
       "      <td>occupation_Exec-managerial</td>\n",
       "      <td>0.017751</td>\n",
       "    </tr>\n",
       "    <tr>\n",
       "      <th>9</th>\n",
       "      <td>workclass_Private</td>\n",
       "      <td>0.014793</td>\n",
       "    </tr>\n",
       "    <tr>\n",
       "      <th>10</th>\n",
       "      <td>occupation_Farming-fishing</td>\n",
       "      <td>0.013807</td>\n",
       "    </tr>\n",
       "    <tr>\n",
       "      <th>11</th>\n",
       "      <td>occupation_Other-service</td>\n",
       "      <td>0.012821</td>\n",
       "    </tr>\n",
       "    <tr>\n",
       "      <th>12</th>\n",
       "      <td>relationship_Unmarried</td>\n",
       "      <td>0.011834</td>\n",
       "    </tr>\n",
       "    <tr>\n",
       "      <th>13</th>\n",
       "      <td>occupation_Prof-specialty</td>\n",
       "      <td>0.011834</td>\n",
       "    </tr>\n",
       "    <tr>\n",
       "      <th>14</th>\n",
       "      <td>race_White</td>\n",
       "      <td>0.010848</td>\n",
       "    </tr>\n",
       "    <tr>\n",
       "      <th>15</th>\n",
       "      <td>workclass_Federal-gov</td>\n",
       "      <td>0.010848</td>\n",
       "    </tr>\n",
       "    <tr>\n",
       "      <th>16</th>\n",
       "      <td>occupation_Tech-support</td>\n",
       "      <td>0.010848</td>\n",
       "    </tr>\n",
       "    <tr>\n",
       "      <th>17</th>\n",
       "      <td>occupation_Handlers-cleaners</td>\n",
       "      <td>0.009862</td>\n",
       "    </tr>\n",
       "    <tr>\n",
       "      <th>18</th>\n",
       "      <td>relationship_Own-child</td>\n",
       "      <td>0.009862</td>\n",
       "    </tr>\n",
       "    <tr>\n",
       "      <th>19</th>\n",
       "      <td>workclass_Local-gov</td>\n",
       "      <td>0.009862</td>\n",
       "    </tr>\n",
       "    <tr>\n",
       "      <th>20</th>\n",
       "      <td>marital_status_Married-AF-spouse</td>\n",
       "      <td>0.008876</td>\n",
       "    </tr>\n",
       "    <tr>\n",
       "      <th>21</th>\n",
       "      <td>occupation_Sales</td>\n",
       "      <td>0.007890</td>\n",
       "    </tr>\n",
       "    <tr>\n",
       "      <th>22</th>\n",
       "      <td>occupation_Protective-serv</td>\n",
       "      <td>0.007890</td>\n",
       "    </tr>\n",
       "    <tr>\n",
       "      <th>23</th>\n",
       "      <td>education_Assoc-voc</td>\n",
       "      <td>0.006903</td>\n",
       "    </tr>\n",
       "    <tr>\n",
       "      <th>24</th>\n",
       "      <td>education_Bachelors</td>\n",
       "      <td>0.006903</td>\n",
       "    </tr>\n",
       "  </tbody>\n",
       "</table>\n",
       "</div>"
      ],
      "text/plain": [
       "                              Feature  Importance\n",
       "0                         net_capital    0.287968\n",
       "1                                 age    0.165680\n",
       "2                      hours_per_week    0.088757\n",
       "3                       education_num    0.084813\n",
       "4   marital_status_Married-civ-spouse    0.043393\n",
       "5                   relationship_Wife    0.029586\n",
       "6                                male    0.018738\n",
       "7          workclass_Self-emp-not-inc    0.018738\n",
       "8          occupation_Exec-managerial    0.017751\n",
       "9                   workclass_Private    0.014793\n",
       "10         occupation_Farming-fishing    0.013807\n",
       "11           occupation_Other-service    0.012821\n",
       "12             relationship_Unmarried    0.011834\n",
       "13          occupation_Prof-specialty    0.011834\n",
       "14                         race_White    0.010848\n",
       "15              workclass_Federal-gov    0.010848\n",
       "16            occupation_Tech-support    0.010848\n",
       "17       occupation_Handlers-cleaners    0.009862\n",
       "18             relationship_Own-child    0.009862\n",
       "19                workclass_Local-gov    0.009862\n",
       "20   marital_status_Married-AF-spouse    0.008876\n",
       "21                   occupation_Sales    0.007890\n",
       "22         occupation_Protective-serv    0.007890\n",
       "23                education_Assoc-voc    0.006903\n",
       "24                education_Bachelors    0.006903"
      ]
     },
     "execution_count": 39,
     "metadata": {},
     "output_type": "execute_result"
    }
   ],
   "source": [
    "order_importance(X_train.columns, xgb.feature_importances_, \"Importance\")[:25]"
   ]
  },
  {
   "cell_type": "code",
   "execution_count": 11,
   "metadata": {
    "collapsed": true
   },
   "outputs": [],
   "source": [
    "y_test_pred = xgb.predict(X_test)"
   ]
  },
  {
   "cell_type": "code",
   "execution_count": 15,
   "metadata": {},
   "outputs": [],
   "source": [
    "submission = pd.DataFrame(y_test_pred, columns=[\"label\"])\n",
    "submission.index.name = \"id\"\n",
    "pd.DataFrame.to_csv(submission, \"submission.csv\")"
   ]
  },
  {
   "cell_type": "markdown",
   "metadata": {
    "collapsed": true
   },
   "source": [
    "# Cross-validation example"
   ]
  },
  {
   "cell_type": "code",
   "execution_count": 30,
   "metadata": {},
   "outputs": [
    {
     "data": {
      "text/plain": [
       "array([ 0.85920467,  0.86210074,  0.86701474,  0.8647113 ,  0.86532555])"
      ]
     },
     "execution_count": 30,
     "metadata": {},
     "output_type": "execute_result"
    }
   ],
   "source": [
    "# Beware, this is slow to run (especially when using all input variables)\n",
    "from sklearn.model_selection import cross_val_score\n",
    "import sklearn.svm\n",
    "clf = sklearn.svm.SVC(kernel='rbf')\n",
    "scores = cross_val_score(clf, X_train, y_train, cv=5)\n",
    "scores"
   ]
  },
  {
   "cell_type": "code",
   "execution_count": 31,
   "metadata": {},
   "outputs": [
    {
     "name": "stdout",
     "output_type": "stream",
     "text": [
      "Accuracy: 0.846 ± 0.011\n"
     ]
    }
   ],
   "source": [
    "# This is much faster\n",
    "from sklearn.model_selection import cross_val_score\n",
    "from sklearn.linear_model import LogisticRegression\n",
    "clf = LogisticRegression()\n",
    "scores = cross_val_score(clf, X_train, y_train, cv=10)\n",
    "print(\"Accuracy: %0.3f ± %0.3f\" % (scores.mean(), scores.std() * 2))"
   ]
  },
  {
   "cell_type": "markdown",
   "metadata": {},
   "source": [
    "# Random Forests & feature importance"
   ]
  },
  {
   "cell_type": "code",
   "execution_count": 43,
   "metadata": {
    "collapsed": true
   },
   "outputs": [],
   "source": [
    "def order_importance(columns, ranks, name, ascending=False):\n",
    "    features = pd.DataFrame(\n",
    "        {\"Feature\": list(columns),\n",
    "         name: ranks}\n",
    "    )\n",
    "    features.sort_values(name, inplace=True, ascending=ascending)\n",
    "    return features.reset_index(drop=True)"
   ]
  },
  {
   "cell_type": "code",
   "execution_count": 45,
   "metadata": {},
   "outputs": [
    {
     "data": {
      "text/html": [
       "<div>\n",
       "<style>\n",
       "    .dataframe thead tr:only-child th {\n",
       "        text-align: right;\n",
       "    }\n",
       "\n",
       "    .dataframe thead th {\n",
       "        text-align: left;\n",
       "    }\n",
       "\n",
       "    .dataframe tbody tr th {\n",
       "        vertical-align: top;\n",
       "    }\n",
       "</style>\n",
       "<table border=\"1\" class=\"dataframe\">\n",
       "  <thead>\n",
       "    <tr style=\"text-align: right;\">\n",
       "      <th></th>\n",
       "      <th>Feature</th>\n",
       "      <th>Importance</th>\n",
       "    </tr>\n",
       "  </thead>\n",
       "  <tbody>\n",
       "    <tr>\n",
       "      <th>0</th>\n",
       "      <td>age</td>\n",
       "      <td>0.242081</td>\n",
       "    </tr>\n",
       "    <tr>\n",
       "      <th>1</th>\n",
       "      <td>net_capital</td>\n",
       "      <td>0.124096</td>\n",
       "    </tr>\n",
       "    <tr>\n",
       "      <th>2</th>\n",
       "      <td>hours_per_week</td>\n",
       "      <td>0.119954</td>\n",
       "    </tr>\n",
       "    <tr>\n",
       "      <th>3</th>\n",
       "      <td>relationship_Husband</td>\n",
       "      <td>0.075012</td>\n",
       "    </tr>\n",
       "    <tr>\n",
       "      <th>4</th>\n",
       "      <td>education_num</td>\n",
       "      <td>0.064737</td>\n",
       "    </tr>\n",
       "    <tr>\n",
       "      <th>5</th>\n",
       "      <td>marital_status_Married-civ-spouse</td>\n",
       "      <td>0.060024</td>\n",
       "    </tr>\n",
       "    <tr>\n",
       "      <th>6</th>\n",
       "      <td>occupation_Exec-managerial</td>\n",
       "      <td>0.018700</td>\n",
       "    </tr>\n",
       "    <tr>\n",
       "      <th>7</th>\n",
       "      <td>occupation_Prof-specialty</td>\n",
       "      <td>0.017527</td>\n",
       "    </tr>\n",
       "    <tr>\n",
       "      <th>8</th>\n",
       "      <td>male</td>\n",
       "      <td>0.017452</td>\n",
       "    </tr>\n",
       "    <tr>\n",
       "      <th>9</th>\n",
       "      <td>marital_status_Never-married</td>\n",
       "      <td>0.015837</td>\n",
       "    </tr>\n",
       "    <tr>\n",
       "      <th>10</th>\n",
       "      <td>relationship_Not-in-family</td>\n",
       "      <td>0.011657</td>\n",
       "    </tr>\n",
       "    <tr>\n",
       "      <th>11</th>\n",
       "      <td>workclass_Private</td>\n",
       "      <td>0.011193</td>\n",
       "    </tr>\n",
       "    <tr>\n",
       "      <th>12</th>\n",
       "      <td>education_Bachelors</td>\n",
       "      <td>0.009584</td>\n",
       "    </tr>\n",
       "    <tr>\n",
       "      <th>13</th>\n",
       "      <td>workclass_Self-emp-not-inc</td>\n",
       "      <td>0.009096</td>\n",
       "    </tr>\n",
       "    <tr>\n",
       "      <th>14</th>\n",
       "      <td>relationship_Wife</td>\n",
       "      <td>0.009021</td>\n",
       "    </tr>\n",
       "    <tr>\n",
       "      <th>15</th>\n",
       "      <td>occupation_Sales</td>\n",
       "      <td>0.008124</td>\n",
       "    </tr>\n",
       "    <tr>\n",
       "      <th>16</th>\n",
       "      <td>education_Masters</td>\n",
       "      <td>0.008091</td>\n",
       "    </tr>\n",
       "    <tr>\n",
       "      <th>17</th>\n",
       "      <td>education_HS-grad</td>\n",
       "      <td>0.007496</td>\n",
       "    </tr>\n",
       "    <tr>\n",
       "      <th>18</th>\n",
       "      <td>occupation_Craft-repair</td>\n",
       "      <td>0.007307</td>\n",
       "    </tr>\n",
       "    <tr>\n",
       "      <th>19</th>\n",
       "      <td>race_White</td>\n",
       "      <td>0.007197</td>\n",
       "    </tr>\n",
       "    <tr>\n",
       "      <th>20</th>\n",
       "      <td>occupation_Other-service</td>\n",
       "      <td>0.007099</td>\n",
       "    </tr>\n",
       "    <tr>\n",
       "      <th>21</th>\n",
       "      <td>workclass_Self-emp-inc</td>\n",
       "      <td>0.007050</td>\n",
       "    </tr>\n",
       "    <tr>\n",
       "      <th>22</th>\n",
       "      <td>education_Some-college</td>\n",
       "      <td>0.006770</td>\n",
       "    </tr>\n",
       "    <tr>\n",
       "      <th>23</th>\n",
       "      <td>marital_status_Divorced</td>\n",
       "      <td>0.006563</td>\n",
       "    </tr>\n",
       "    <tr>\n",
       "      <th>24</th>\n",
       "      <td>workclass_Local-gov</td>\n",
       "      <td>0.006473</td>\n",
       "    </tr>\n",
       "  </tbody>\n",
       "</table>\n",
       "</div>"
      ],
      "text/plain": [
       "                              Feature  Importance\n",
       "0                                 age    0.242081\n",
       "1                         net_capital    0.124096\n",
       "2                      hours_per_week    0.119954\n",
       "3                relationship_Husband    0.075012\n",
       "4                       education_num    0.064737\n",
       "5   marital_status_Married-civ-spouse    0.060024\n",
       "6          occupation_Exec-managerial    0.018700\n",
       "7           occupation_Prof-specialty    0.017527\n",
       "8                                male    0.017452\n",
       "9        marital_status_Never-married    0.015837\n",
       "10         relationship_Not-in-family    0.011657\n",
       "11                  workclass_Private    0.011193\n",
       "12                education_Bachelors    0.009584\n",
       "13         workclass_Self-emp-not-inc    0.009096\n",
       "14                  relationship_Wife    0.009021\n",
       "15                   occupation_Sales    0.008124\n",
       "16                  education_Masters    0.008091\n",
       "17                  education_HS-grad    0.007496\n",
       "18            occupation_Craft-repair    0.007307\n",
       "19                         race_White    0.007197\n",
       "20           occupation_Other-service    0.007099\n",
       "21             workclass_Self-emp-inc    0.007050\n",
       "22             education_Some-college    0.006770\n",
       "23            marital_status_Divorced    0.006563\n",
       "24                workclass_Local-gov    0.006473"
      ]
     },
     "execution_count": 45,
     "metadata": {},
     "output_type": "execute_result"
    }
   ],
   "source": [
    "import sklearn.ensemble\n",
    "rf = sklearn.ensemble.RandomForestClassifier(n_jobs=-1)\n",
    "rf = rf.fit(X_train, y_train)\n",
    "order_importance(X_train.columns, rf.feature_importances_, \"Importance\")[:25]"
   ]
  },
  {
   "cell_type": "markdown",
   "metadata": {},
   "source": [
    "## RFECV with a simple classifier to rank features"
   ]
  },
  {
   "cell_type": "code",
   "execution_count": 46,
   "metadata": {},
   "outputs": [
    {
     "data": {
      "text/html": [
       "<div>\n",
       "<style>\n",
       "    .dataframe thead tr:only-child th {\n",
       "        text-align: right;\n",
       "    }\n",
       "\n",
       "    .dataframe thead th {\n",
       "        text-align: left;\n",
       "    }\n",
       "\n",
       "    .dataframe tbody tr th {\n",
       "        vertical-align: top;\n",
       "    }\n",
       "</style>\n",
       "<table border=\"1\" class=\"dataframe\">\n",
       "  <thead>\n",
       "    <tr style=\"text-align: right;\">\n",
       "      <th></th>\n",
       "      <th>Feature</th>\n",
       "      <th>RFE rank</th>\n",
       "    </tr>\n",
       "  </thead>\n",
       "  <tbody>\n",
       "    <tr>\n",
       "      <th>0</th>\n",
       "      <td>net_capital</td>\n",
       "      <td>1</td>\n",
       "    </tr>\n",
       "    <tr>\n",
       "      <th>1</th>\n",
       "      <td>education_num</td>\n",
       "      <td>1</td>\n",
       "    </tr>\n",
       "    <tr>\n",
       "      <th>2</th>\n",
       "      <td>marital_status_Married-civ-spouse</td>\n",
       "      <td>1</td>\n",
       "    </tr>\n",
       "    <tr>\n",
       "      <th>3</th>\n",
       "      <td>age</td>\n",
       "      <td>2</td>\n",
       "    </tr>\n",
       "    <tr>\n",
       "      <th>4</th>\n",
       "      <td>hours_per_week</td>\n",
       "      <td>3</td>\n",
       "    </tr>\n",
       "    <tr>\n",
       "      <th>5</th>\n",
       "      <td>workclass_Private</td>\n",
       "      <td>4</td>\n",
       "    </tr>\n",
       "    <tr>\n",
       "      <th>6</th>\n",
       "      <td>occupation_Craft-repair</td>\n",
       "      <td>5</td>\n",
       "    </tr>\n",
       "    <tr>\n",
       "      <th>7</th>\n",
       "      <td>race_White</td>\n",
       "      <td>6</td>\n",
       "    </tr>\n",
       "    <tr>\n",
       "      <th>8</th>\n",
       "      <td>native_country_United-States</td>\n",
       "      <td>7</td>\n",
       "    </tr>\n",
       "    <tr>\n",
       "      <th>9</th>\n",
       "      <td>male</td>\n",
       "      <td>8</td>\n",
       "    </tr>\n",
       "    <tr>\n",
       "      <th>10</th>\n",
       "      <td>workclass_Local-gov</td>\n",
       "      <td>9</td>\n",
       "    </tr>\n",
       "    <tr>\n",
       "      <th>11</th>\n",
       "      <td>occupation_Exec-managerial</td>\n",
       "      <td>10</td>\n",
       "    </tr>\n",
       "    <tr>\n",
       "      <th>12</th>\n",
       "      <td>occupation_Prof-specialty</td>\n",
       "      <td>11</td>\n",
       "    </tr>\n",
       "    <tr>\n",
       "      <th>13</th>\n",
       "      <td>workclass_Self-emp-not-inc</td>\n",
       "      <td>12</td>\n",
       "    </tr>\n",
       "    <tr>\n",
       "      <th>14</th>\n",
       "      <td>occupation_Sales</td>\n",
       "      <td>13</td>\n",
       "    </tr>\n",
       "    <tr>\n",
       "      <th>15</th>\n",
       "      <td>relationship_Wife</td>\n",
       "      <td>14</td>\n",
       "    </tr>\n",
       "    <tr>\n",
       "      <th>16</th>\n",
       "      <td>occupation_Adm-clerical</td>\n",
       "      <td>15</td>\n",
       "    </tr>\n",
       "    <tr>\n",
       "      <th>17</th>\n",
       "      <td>workclass_Federal-gov</td>\n",
       "      <td>16</td>\n",
       "    </tr>\n",
       "    <tr>\n",
       "      <th>18</th>\n",
       "      <td>occupation_Machine-op-inspct</td>\n",
       "      <td>17</td>\n",
       "    </tr>\n",
       "    <tr>\n",
       "      <th>19</th>\n",
       "      <td>workclass_Self-emp-inc</td>\n",
       "      <td>18</td>\n",
       "    </tr>\n",
       "    <tr>\n",
       "      <th>20</th>\n",
       "      <td>relationship_Not-in-family</td>\n",
       "      <td>19</td>\n",
       "    </tr>\n",
       "    <tr>\n",
       "      <th>21</th>\n",
       "      <td>workclass_State-gov</td>\n",
       "      <td>20</td>\n",
       "    </tr>\n",
       "    <tr>\n",
       "      <th>22</th>\n",
       "      <td>occupation_Transport-moving</td>\n",
       "      <td>21</td>\n",
       "    </tr>\n",
       "    <tr>\n",
       "      <th>23</th>\n",
       "      <td>race_Black</td>\n",
       "      <td>22</td>\n",
       "    </tr>\n",
       "    <tr>\n",
       "      <th>24</th>\n",
       "      <td>marital_status_Never-married</td>\n",
       "      <td>23</td>\n",
       "    </tr>\n",
       "  </tbody>\n",
       "</table>\n",
       "</div>"
      ],
      "text/plain": [
       "                              Feature  RFE rank\n",
       "0                         net_capital         1\n",
       "1                       education_num         1\n",
       "2   marital_status_Married-civ-spouse         1\n",
       "3                                 age         2\n",
       "4                      hours_per_week         3\n",
       "5                   workclass_Private         4\n",
       "6             occupation_Craft-repair         5\n",
       "7                          race_White         6\n",
       "8        native_country_United-States         7\n",
       "9                                male         8\n",
       "10                workclass_Local-gov         9\n",
       "11         occupation_Exec-managerial        10\n",
       "12          occupation_Prof-specialty        11\n",
       "13         workclass_Self-emp-not-inc        12\n",
       "14                   occupation_Sales        13\n",
       "15                  relationship_Wife        14\n",
       "16            occupation_Adm-clerical        15\n",
       "17              workclass_Federal-gov        16\n",
       "18       occupation_Machine-op-inspct        17\n",
       "19             workclass_Self-emp-inc        18\n",
       "20         relationship_Not-in-family        19\n",
       "21                workclass_State-gov        20\n",
       "22        occupation_Transport-moving        21\n",
       "23                         race_Black        22\n",
       "24       marital_status_Never-married        23"
      ]
     },
     "execution_count": 46,
     "metadata": {},
     "output_type": "execute_result"
    }
   ],
   "source": [
    "from sklearn.tree import DecisionTreeClassifier\n",
    "import sklearn.feature_selection\n",
    "clf = DecisionTreeClassifier()\n",
    "selector = sklearn.feature_selection.RFECV(clf)\n",
    "selector = selector.fit(X_train, y_train)\n",
    "order_importance(X_train.columns, selector.ranking_, \"RFE rank\", True)[:25]"
   ]
  }
 ],
 "metadata": {
  "kernelspec": {
   "display_name": "Python 3",
   "language": "python",
   "name": "python3"
  },
  "language_info": {
   "codemirror_mode": {
    "name": "ipython",
    "version": 3
   },
   "file_extension": ".py",
   "mimetype": "text/x-python",
   "name": "python",
   "nbconvert_exporter": "python",
   "pygments_lexer": "ipython3",
   "version": "3.6.3"
  }
 },
 "nbformat": 4,
 "nbformat_minor": 2
}
